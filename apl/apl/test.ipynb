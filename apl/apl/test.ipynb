{
 "cells": [
  {
   "cell_type": "code",
   "execution_count": 1,
   "metadata": {},
   "outputs": [],
   "source": [
    "from mongita import MongitaClientDisk"
   ]
  },
  {
   "cell_type": "code",
   "execution_count": 2,
   "metadata": {},
   "outputs": [],
   "source": [
    "client = MongitaClientDisk(r'C:\\Users\\11056\\anaconda3\\envs\\easyapi\\Lib\\site-packages\\apl\\apl\\.mongita')"
   ]
  },
  {
   "cell_type": "code",
   "execution_count": 3,
   "metadata": {},
   "outputs": [],
   "source": [
    "db = client['aplserver']"
   ]
  },
  {
   "cell_type": "code",
   "execution_count": 4,
   "metadata": {},
   "outputs": [],
   "source": [
    "col = db['projects']\n",
    "records = []\n",
    "accept_columns = ['id', 'name', 'desc', 'create', 'table', 'workflows', 'access']\n",
    "for record in col.find():\n",
    "    item = {k:v for k, v in record.items() if k in accept_columns}\n",
    "    item['resources'] = []\n",
    "    item['histories'] = []\n",
    "    records.append(item)\n",
    "import pickle\n",
    "with open('data/projects.obj', 'wb') as f:\n",
    "    pickle.dump(records, f)"
   ]
  },
  {
   "cell_type": "code",
   "execution_count": 41,
   "metadata": {},
   "outputs": [],
   "source": [
    "with open('data/projects.obj', 'rb') as f:\n",
    "    buffer = pickle.load(f)"
   ]
  },
  {
   "cell_type": "code",
   "execution_count": 56,
   "metadata": {},
   "outputs": [],
   "source": [
    "col = db['user']\n",
    "records = []\n",
    "accept_columns = ['id', 'email', 'projects', 'workflows', 'resources']\n",
    "for record in col.find():\n",
    "    item = {k:v for k, v in record.items() if k in accept_columns}\n",
    "    records.append(item)\n",
    "import pickle\n",
    "with open('data/user.obj', 'wb') as f:\n",
    "    pickle.dump(records, f)"
   ]
  },
  {
   "cell_type": "code",
   "execution_count": 54,
   "metadata": {},
   "outputs": [
    {
     "data": {
      "text/plain": [
       "[{'_id': ObjectId('6760c4764234ff2f5621f97a'),\n",
       "  'id': 1,\n",
       "  'email': '',\n",
       "  'projects': ['f35783b1-fb87-411f-b775-ec3a1678ac2e'],\n",
       "  'workflows': ['6aa00f6f-8cea-48a9-a6f0-9171aecdc1bc',\n",
       "   '00f7bc09-fa11-45f9-99f9-9ee816cfe8a2',\n",
       "   'ac43fd33-49b6-40b3-9a1b-d68b7fa7586c',\n",
       "   '69c42443-72cf-4932-be2a-61da43079a61'],\n",
       "  'resources': []}]"
      ]
     },
     "execution_count": 54,
     "metadata": {},
     "output_type": "execute_result"
    }
   ],
   "source": [
    "col.insert_many()"
   ]
  },
  {
   "cell_type": "code",
   "execution_count": 5,
   "metadata": {},
   "outputs": [],
   "source": [
    "col = db['datatables']\n",
    "records = []\n",
    "accept_columns = ['id', 'columns', 'table', 'access']\n",
    "for record in col.find():\n",
    "    item = {k:v for k, v in record.items() if k in accept_columns}\n",
    "    records.append(item)\n",
    "import pickle\n",
    "with open('data/datatables.obj', 'wb') as f:\n",
    "    pickle.dump(records, f)"
   ]
  },
  {
   "cell_type": "code",
   "execution_count": 50,
   "metadata": {},
   "outputs": [],
   "source": [
    "col = db['workflows']\n",
    "records = []\n",
    "accept_columns = ['id', 'name', 'desc', 'blocks', 'access']\n",
    "for record in col.find():\n",
    "    records.append({k:v for k, v in record.items() if k in accept_columns})\n",
    "import pickle\n",
    "with open('data/workflows.obj', 'wb') as f:\n",
    "    pickle.dump(records, f)"
   ]
  },
  {
   "cell_type": "code",
   "execution_count": 51,
   "metadata": {},
   "outputs": [],
   "source": [
    "with open('data/workflows.obj', 'rb') as f:\n",
    "    buffer = pickle.load(f)"
   ]
  },
  {
   "cell_type": "code",
   "execution_count": 52,
   "metadata": {},
   "outputs": [
    {
     "data": {
      "text/plain": [
       "[('APL Pipeline [PDB]', '6aa00f6f-8cea-48a9-a6f0-9171aecdc1bc'),\n",
       " ('APL Pipeline [AlphaFold]', '00f7bc09-fa11-45f9-99f9-9ee816cfe8a2'),\n",
       " ('APL-MHC Pipeline [PDB]', 'ac43fd33-49b6-40b3-9a1b-d68b7fa7586c'),\n",
       " ('APL-MHC Pipeline [AlphaFold]', '69c42443-72cf-4932-be2a-61da43079a61')]"
      ]
     },
     "execution_count": 52,
     "metadata": {},
     "output_type": "execute_result"
    }
   ],
   "source": [
    "[(i['name'], i['id']) for i in buffer]"
   ]
  },
  {
   "cell_type": "code",
   "execution_count": 9,
   "metadata": {},
   "outputs": [
    {
     "ename": "NameError",
     "evalue": "name '__file__' is not defined",
     "output_type": "error",
     "traceback": [
      "\u001b[1;31m---------------------------------------------------------------------------\u001b[0m",
      "\u001b[1;31mNameError\u001b[0m                                 Traceback (most recent call last)",
      "Cell \u001b[1;32mIn[9], line 2\u001b[0m\n\u001b[0;32m      1\u001b[0m \u001b[38;5;28;01mimport\u001b[39;00m \u001b[38;5;21;01mpathlib\u001b[39;00m\n\u001b[1;32m----> 2\u001b[0m \u001b[38;5;18;43m__file__\u001b[39;49m\n",
      "\u001b[1;31mNameError\u001b[0m: name '__file__' is not defined"
     ]
    }
   ],
   "source": [
    "import pathlib\n",
    "__file__"
   ]
  }
 ],
 "metadata": {
  "kernelspec": {
   "display_name": "easyapi",
   "language": "python",
   "name": "python3"
  },
  "language_info": {
   "codemirror_mode": {
    "name": "ipython",
    "version": 3
   },
   "file_extension": ".py",
   "mimetype": "text/x-python",
   "name": "python",
   "nbconvert_exporter": "python",
   "pygments_lexer": "ipython3",
   "version": "3.12.8"
  }
 },
 "nbformat": 4,
 "nbformat_minor": 2
}
